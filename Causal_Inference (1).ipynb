{
 "cells": [
  {
   "cell_type": "markdown",
   "metadata": {
    "id": "buDsN2G0ddoh"
   },
   "source": [
    "# Causal Inference"
   ]
  },
  {
   "cell_type": "code",
   "execution_count": 113,
   "metadata": {
    "id": "jtacxiGZmsjb"
   },
   "outputs": [],
   "source": [
    "import numpy as np\n",
    "import pandas as pd\n",
    "import matplotlib.pyplot as plt\n",
    "import seaborn as sns\n",
    "def warn(*args, **kwargs):\n",
    "    pass\n",
    "import warnings\n",
    "warnings.warn = warn"
   ]
  },
  {
   "cell_type": "markdown",
   "metadata": {
    "id": "049JoZmiWd6r"
   },
   "source": [
    "## Task 1\n",
    "Load, clean, and explore the datasets provided\n",
    "### The Infant Health Development Program (IHDP) Dataset"
   ]
  },
  {
   "cell_type": "code",
   "execution_count": 7,
   "metadata": {
    "colab": {
     "base_uri": "https://localhost:8080/",
     "height": 412
    },
    "id": "H3hd8ZD8EvtG",
    "outputId": "ecef9d6f-dd12-4ba7-bf40-26966547390a"
   },
   "outputs": [],
   "source": [
    "ihdp = np.load('ihdp.npz')\n",
    "df_ihdp = pd.DataFrame(ihdp['x'])\n",
    "# df_ihdp.describe()"
   ]
  },
  {
   "cell_type": "code",
   "execution_count": 8,
   "metadata": {
    "colab": {
     "base_uri": "https://localhost:8080/",
     "height": 483
    },
    "id": "fpgybAqs1h1p",
    "outputId": "d25fc849-bb85-4215-f896-35d2367fd72c"
   },
   "outputs": [
    {
     "data": {
      "text/html": [
       "<div>\n",
       "<style scoped>\n",
       "    .dataframe tbody tr th:only-of-type {\n",
       "        vertical-align: middle;\n",
       "    }\n",
       "\n",
       "    .dataframe tbody tr th {\n",
       "        vertical-align: top;\n",
       "    }\n",
       "\n",
       "    .dataframe thead th {\n",
       "        text-align: right;\n",
       "    }\n",
       "</style>\n",
       "<table border=\"1\" class=\"dataframe\">\n",
       "  <thead>\n",
       "    <tr style=\"text-align: right;\">\n",
       "      <th></th>\n",
       "      <th>0</th>\n",
       "      <th>1</th>\n",
       "      <th>2</th>\n",
       "      <th>3</th>\n",
       "      <th>4</th>\n",
       "      <th>5</th>\n",
       "      <th>6</th>\n",
       "      <th>7</th>\n",
       "      <th>8</th>\n",
       "      <th>9</th>\n",
       "      <th>...</th>\n",
       "      <th>19</th>\n",
       "      <th>20</th>\n",
       "      <th>21</th>\n",
       "      <th>22</th>\n",
       "      <th>23</th>\n",
       "      <th>24</th>\n",
       "      <th>t</th>\n",
       "      <th>yf</th>\n",
       "      <th>ycf</th>\n",
       "      <th>ite</th>\n",
       "    </tr>\n",
       "  </thead>\n",
       "  <tbody>\n",
       "    <tr>\n",
       "      <th>0</th>\n",
       "      <td>1.397395</td>\n",
       "      <td>0.996346</td>\n",
       "      <td>-1.105624</td>\n",
       "      <td>-0.879606</td>\n",
       "      <td>0.308569</td>\n",
       "      <td>-1.023402</td>\n",
       "      <td>1.0</td>\n",
       "      <td>0.0</td>\n",
       "      <td>0.0</td>\n",
       "      <td>0.0</td>\n",
       "      <td>...</td>\n",
       "      <td>0.0</td>\n",
       "      <td>0.0</td>\n",
       "      <td>0.0</td>\n",
       "      <td>0.0</td>\n",
       "      <td>0.0</td>\n",
       "      <td>1.0</td>\n",
       "      <td>1.0</td>\n",
       "      <td>4.771232</td>\n",
       "      <td>-0.298509</td>\n",
       "      <td>4.657928</td>\n",
       "    </tr>\n",
       "    <tr>\n",
       "      <th>1</th>\n",
       "      <td>0.269033</td>\n",
       "      <td>0.196818</td>\n",
       "      <td>0.383828</td>\n",
       "      <td>0.161703</td>\n",
       "      <td>-0.629189</td>\n",
       "      <td>1.460832</td>\n",
       "      <td>1.0</td>\n",
       "      <td>0.0</td>\n",
       "      <td>1.0</td>\n",
       "      <td>0.0</td>\n",
       "      <td>...</td>\n",
       "      <td>0.0</td>\n",
       "      <td>0.0</td>\n",
       "      <td>0.0</td>\n",
       "      <td>0.0</td>\n",
       "      <td>0.0</td>\n",
       "      <td>0.0</td>\n",
       "      <td>0.0</td>\n",
       "      <td>2.956273</td>\n",
       "      <td>5.783770</td>\n",
       "      <td>3.428604</td>\n",
       "    </tr>\n",
       "    <tr>\n",
       "      <th>2</th>\n",
       "      <td>1.051537</td>\n",
       "      <td>1.795874</td>\n",
       "      <td>-1.105624</td>\n",
       "      <td>0.161703</td>\n",
       "      <td>-0.629189</td>\n",
       "      <td>0.963985</td>\n",
       "      <td>1.0</td>\n",
       "      <td>0.0</td>\n",
       "      <td>1.0</td>\n",
       "      <td>1.0</td>\n",
       "      <td>...</td>\n",
       "      <td>0.0</td>\n",
       "      <td>0.0</td>\n",
       "      <td>0.0</td>\n",
       "      <td>0.0</td>\n",
       "      <td>0.0</td>\n",
       "      <td>1.0</td>\n",
       "      <td>0.0</td>\n",
       "      <td>4.164164</td>\n",
       "      <td>7.055789</td>\n",
       "      <td>3.658195</td>\n",
       "    </tr>\n",
       "    <tr>\n",
       "      <th>3</th>\n",
       "      <td>0.662446</td>\n",
       "      <td>0.196818</td>\n",
       "      <td>-0.733261</td>\n",
       "      <td>-0.879606</td>\n",
       "      <td>0.371086</td>\n",
       "      <td>-0.692171</td>\n",
       "      <td>1.0</td>\n",
       "      <td>0.0</td>\n",
       "      <td>0.0</td>\n",
       "      <td>0.0</td>\n",
       "      <td>...</td>\n",
       "      <td>1.0</td>\n",
       "      <td>0.0</td>\n",
       "      <td>0.0</td>\n",
       "      <td>0.0</td>\n",
       "      <td>0.0</td>\n",
       "      <td>0.0</td>\n",
       "      <td>1.0</td>\n",
       "      <td>6.172307</td>\n",
       "      <td>1.379697</td>\n",
       "      <td>4.585505</td>\n",
       "    </tr>\n",
       "    <tr>\n",
       "      <th>4</th>\n",
       "      <td>0.856992</td>\n",
       "      <td>1.795874</td>\n",
       "      <td>0.011465</td>\n",
       "      <td>-0.879606</td>\n",
       "      <td>0.558638</td>\n",
       "      <td>0.301522</td>\n",
       "      <td>0.0</td>\n",
       "      <td>1.0</td>\n",
       "      <td>1.0</td>\n",
       "      <td>0.0</td>\n",
       "      <td>...</td>\n",
       "      <td>0.0</td>\n",
       "      <td>0.0</td>\n",
       "      <td>0.0</td>\n",
       "      <td>0.0</td>\n",
       "      <td>0.0</td>\n",
       "      <td>0.0</td>\n",
       "      <td>1.0</td>\n",
       "      <td>7.834469</td>\n",
       "      <td>2.747986</td>\n",
       "      <td>4.265591</td>\n",
       "    </tr>\n",
       "    <tr>\n",
       "      <th>...</th>\n",
       "      <td>...</td>\n",
       "      <td>...</td>\n",
       "      <td>...</td>\n",
       "      <td>...</td>\n",
       "      <td>...</td>\n",
       "      <td>...</td>\n",
       "      <td>...</td>\n",
       "      <td>...</td>\n",
       "      <td>...</td>\n",
       "      <td>...</td>\n",
       "      <td>...</td>\n",
       "      <td>...</td>\n",
       "      <td>...</td>\n",
       "      <td>...</td>\n",
       "      <td>...</td>\n",
       "      <td>...</td>\n",
       "      <td>...</td>\n",
       "      <td>...</td>\n",
       "      <td>...</td>\n",
       "      <td>...</td>\n",
       "      <td>...</td>\n",
       "    </tr>\n",
       "    <tr>\n",
       "      <th>742</th>\n",
       "      <td>-1.853672</td>\n",
       "      <td>-2.201766</td>\n",
       "      <td>1.500917</td>\n",
       "      <td>0.161703</td>\n",
       "      <td>-0.129052</td>\n",
       "      <td>-1.023402</td>\n",
       "      <td>1.0</td>\n",
       "      <td>0.0</td>\n",
       "      <td>0.0</td>\n",
       "      <td>1.0</td>\n",
       "      <td>...</td>\n",
       "      <td>0.0</td>\n",
       "      <td>0.0</td>\n",
       "      <td>0.0</td>\n",
       "      <td>1.0</td>\n",
       "      <td>0.0</td>\n",
       "      <td>0.0</td>\n",
       "      <td>0.0</td>\n",
       "      <td>2.244050</td>\n",
       "      <td>5.269701</td>\n",
       "      <td>4.598246</td>\n",
       "    </tr>\n",
       "    <tr>\n",
       "      <th>743</th>\n",
       "      <td>-1.066845</td>\n",
       "      <td>-1.402238</td>\n",
       "      <td>1.128554</td>\n",
       "      <td>2.244320</td>\n",
       "      <td>0.371086</td>\n",
       "      <td>2.288910</td>\n",
       "      <td>0.0</td>\n",
       "      <td>0.0</td>\n",
       "      <td>1.0</td>\n",
       "      <td>0.0</td>\n",
       "      <td>...</td>\n",
       "      <td>1.0</td>\n",
       "      <td>0.0</td>\n",
       "      <td>0.0</td>\n",
       "      <td>0.0</td>\n",
       "      <td>0.0</td>\n",
       "      <td>0.0</td>\n",
       "      <td>0.0</td>\n",
       "      <td>6.253175</td>\n",
       "      <td>8.393338</td>\n",
       "      <td>0.940855</td>\n",
       "    </tr>\n",
       "    <tr>\n",
       "      <th>744</th>\n",
       "      <td>-1.045229</td>\n",
       "      <td>-1.337276</td>\n",
       "      <td>1.128554</td>\n",
       "      <td>-0.879606</td>\n",
       "      <td>0.683672</td>\n",
       "      <td>0.301522</td>\n",
       "      <td>1.0</td>\n",
       "      <td>0.0</td>\n",
       "      <td>1.0</td>\n",
       "      <td>0.0</td>\n",
       "      <td>...</td>\n",
       "      <td>0.0</td>\n",
       "      <td>0.0</td>\n",
       "      <td>0.0</td>\n",
       "      <td>0.0</td>\n",
       "      <td>0.0</td>\n",
       "      <td>0.0</td>\n",
       "      <td>0.0</td>\n",
       "      <td>2.908235</td>\n",
       "      <td>6.897207</td>\n",
       "      <td>4.373736</td>\n",
       "    </tr>\n",
       "    <tr>\n",
       "      <th>745</th>\n",
       "      <td>-0.115735</td>\n",
       "      <td>-0.602710</td>\n",
       "      <td>-1.105624</td>\n",
       "      <td>2.244320</td>\n",
       "      <td>0.558638</td>\n",
       "      <td>2.785756</td>\n",
       "      <td>1.0</td>\n",
       "      <td>0.0</td>\n",
       "      <td>1.0</td>\n",
       "      <td>0.0</td>\n",
       "      <td>...</td>\n",
       "      <td>0.0</td>\n",
       "      <td>0.0</td>\n",
       "      <td>0.0</td>\n",
       "      <td>1.0</td>\n",
       "      <td>0.0</td>\n",
       "      <td>0.0</td>\n",
       "      <td>0.0</td>\n",
       "      <td>8.324520</td>\n",
       "      <td>9.208251</td>\n",
       "      <td>0.352653</td>\n",
       "    </tr>\n",
       "    <tr>\n",
       "      <th>746</th>\n",
       "      <td>1.419011</td>\n",
       "      <td>1.396110</td>\n",
       "      <td>-0.733261</td>\n",
       "      <td>2.244320</td>\n",
       "      <td>-0.441638</td>\n",
       "      <td>-0.195324</td>\n",
       "      <td>0.0</td>\n",
       "      <td>1.0</td>\n",
       "      <td>1.0</td>\n",
       "      <td>0.0</td>\n",
       "      <td>...</td>\n",
       "      <td>0.0</td>\n",
       "      <td>0.0</td>\n",
       "      <td>0.0</td>\n",
       "      <td>0.0</td>\n",
       "      <td>0.0</td>\n",
       "      <td>1.0</td>\n",
       "      <td>0.0</td>\n",
       "      <td>1.915644</td>\n",
       "      <td>6.298299</td>\n",
       "      <td>4.115977</td>\n",
       "    </tr>\n",
       "  </tbody>\n",
       "</table>\n",
       "<p>747 rows × 29 columns</p>\n",
       "</div>"
      ],
      "text/plain": [
       "            0         1         2         3         4         5    6    7  \\\n",
       "0    1.397395  0.996346 -1.105624 -0.879606  0.308569 -1.023402  1.0  0.0   \n",
       "1    0.269033  0.196818  0.383828  0.161703 -0.629189  1.460832  1.0  0.0   \n",
       "2    1.051537  1.795874 -1.105624  0.161703 -0.629189  0.963985  1.0  0.0   \n",
       "3    0.662446  0.196818 -0.733261 -0.879606  0.371086 -0.692171  1.0  0.0   \n",
       "4    0.856992  1.795874  0.011465 -0.879606  0.558638  0.301522  0.0  1.0   \n",
       "..        ...       ...       ...       ...       ...       ...  ...  ...   \n",
       "742 -1.853672 -2.201766  1.500917  0.161703 -0.129052 -1.023402  1.0  0.0   \n",
       "743 -1.066845 -1.402238  1.128554  2.244320  0.371086  2.288910  0.0  0.0   \n",
       "744 -1.045229 -1.337276  1.128554 -0.879606  0.683672  0.301522  1.0  0.0   \n",
       "745 -0.115735 -0.602710 -1.105624  2.244320  0.558638  2.785756  1.0  0.0   \n",
       "746  1.419011  1.396110 -0.733261  2.244320 -0.441638 -0.195324  0.0  1.0   \n",
       "\n",
       "       8    9  ...   19   20   21   22   23   24    t        yf       ycf  \\\n",
       "0    0.0  0.0  ...  0.0  0.0  0.0  0.0  0.0  1.0  1.0  4.771232 -0.298509   \n",
       "1    1.0  0.0  ...  0.0  0.0  0.0  0.0  0.0  0.0  0.0  2.956273  5.783770   \n",
       "2    1.0  1.0  ...  0.0  0.0  0.0  0.0  0.0  1.0  0.0  4.164164  7.055789   \n",
       "3    0.0  0.0  ...  1.0  0.0  0.0  0.0  0.0  0.0  1.0  6.172307  1.379697   \n",
       "4    1.0  0.0  ...  0.0  0.0  0.0  0.0  0.0  0.0  1.0  7.834469  2.747986   \n",
       "..   ...  ...  ...  ...  ...  ...  ...  ...  ...  ...       ...       ...   \n",
       "742  0.0  1.0  ...  0.0  0.0  0.0  1.0  0.0  0.0  0.0  2.244050  5.269701   \n",
       "743  1.0  0.0  ...  1.0  0.0  0.0  0.0  0.0  0.0  0.0  6.253175  8.393338   \n",
       "744  1.0  0.0  ...  0.0  0.0  0.0  0.0  0.0  0.0  0.0  2.908235  6.897207   \n",
       "745  1.0  0.0  ...  0.0  0.0  0.0  1.0  0.0  0.0  0.0  8.324520  9.208251   \n",
       "746  1.0  0.0  ...  0.0  0.0  0.0  0.0  0.0  1.0  0.0  1.915644  6.298299   \n",
       "\n",
       "          ite  \n",
       "0    4.657928  \n",
       "1    3.428604  \n",
       "2    3.658195  \n",
       "3    4.585505  \n",
       "4    4.265591  \n",
       "..        ...  \n",
       "742  4.598246  \n",
       "743  0.940855  \n",
       "744  4.373736  \n",
       "745  0.352653  \n",
       "746  4.115977  \n",
       "\n",
       "[747 rows x 29 columns]"
      ]
     },
     "execution_count": 8,
     "metadata": {},
     "output_type": "execute_result"
    }
   ],
   "source": [
    "# ihdp.files\n",
    "# combine labels to a single datafame\n",
    "df_ihdp['t'] = ihdp['t']\n",
    "df_ihdp['yf'] = ihdp['yf']\n",
    "df_ihdp['ycf'] = ihdp['ycf']\n",
    "df_ihdp['ite'] = ihdp['ite']\n",
    "df_ihdp"
   ]
  },
  {
   "cell_type": "code",
   "execution_count": 9,
   "metadata": {
    "colab": {
     "base_uri": "https://localhost:8080/"
    },
    "id": "XPBwaCdcE05J",
    "outputId": "ba348668-00e5-4360-d4d3-1a8aa64ddace"
   },
   "outputs": [
    {
     "data": {
      "text/plain": [
       "array([139.])"
      ]
     },
     "execution_count": 9,
     "metadata": {},
     "output_type": "execute_result"
    }
   ],
   "source": [
    "sum(ihdp['t'])"
   ]
  },
  {
   "cell_type": "code",
   "execution_count": 10,
   "metadata": {
    "colab": {
     "base_uri": "https://localhost:8080/",
     "height": 295
    },
    "id": "_TM4yvlfFHbr",
    "outputId": "0cf19e62-f397-4c43-f6f4-711eb207fb3a"
   },
   "outputs": [
    {
     "data": {
      "image/png": "[encoded data removed]",
      "text/plain": [
       "<Figure size 432x288 with 1 Axes>"
      ]
     },
     "metadata": {
      "needs_background": "light"
     },
     "output_type": "display_data"
    }
   ],
   "source": [
    "sns.boxplot(x='t', y='yf', data=df_ihdp)\n",
    "plt.title('Boxplot of Congnitive Test Score: Control vs Treatment')\n",
    "plt.show()"
   ]
  },
  {
   "cell_type": "markdown",
   "metadata": {
    "id": "ky-pKWMQZJaG"
   },
   "source": [
    "### JOBS Dataset"
   ]
  },
  {
   "cell_type": "code",
   "execution_count": 11,
   "metadata": {
    "colab": {
     "base_uri": "https://localhost:8080/",
     "height": 429
    },
    "id": "7DqJGAdgZMsj",
    "outputId": "6ae8ac4d-8f85-442c-ff41-144688d381c4"
   },
   "outputs": [],
   "source": [
    "jobs = np.load('jobs.npz')\n",
    "df_jobs = pd.DataFrame(jobs['x'])\n",
    "# df_jobs.describe()"
   ]
  },
  {
   "cell_type": "code",
   "execution_count": 12,
   "metadata": {
    "colab": {
     "base_uri": "https://localhost:8080/",
     "height": 483
    },
    "id": "k5TcVR0cF557",
    "outputId": "3a5c5f11-f99d-44f4-b1a4-1b3f321cf62f"
   },
   "outputs": [
    {
     "data": {
      "text/html": [
       "<div>\n",
       "<style scoped>\n",
       "    .dataframe tbody tr th:only-of-type {\n",
       "        vertical-align: middle;\n",
       "    }\n",
       "\n",
       "    .dataframe tbody tr th {\n",
       "        vertical-align: top;\n",
       "    }\n",
       "\n",
       "    .dataframe thead th {\n",
       "        text-align: right;\n",
       "    }\n",
       "</style>\n",
       "<table border=\"1\" class=\"dataframe\">\n",
       "  <thead>\n",
       "    <tr style=\"text-align: right;\">\n",
       "      <th></th>\n",
       "      <th>0</th>\n",
       "      <th>1</th>\n",
       "      <th>2</th>\n",
       "      <th>3</th>\n",
       "      <th>4</th>\n",
       "      <th>5</th>\n",
       "      <th>6</th>\n",
       "      <th>7</th>\n",
       "      <th>8</th>\n",
       "      <th>9</th>\n",
       "      <th>10</th>\n",
       "      <th>11</th>\n",
       "      <th>12</th>\n",
       "      <th>13</th>\n",
       "      <th>14</th>\n",
       "      <th>15</th>\n",
       "      <th>16</th>\n",
       "      <th>t</th>\n",
       "      <th>y</th>\n",
       "      <th>e</th>\n",
       "    </tr>\n",
       "  </thead>\n",
       "  <tbody>\n",
       "    <tr>\n",
       "      <th>0</th>\n",
       "      <td>-0.614282</td>\n",
       "      <td>1.464727</td>\n",
       "      <td>0.0</td>\n",
       "      <td>0.0</td>\n",
       "      <td>1.0</td>\n",
       "      <td>0.0</td>\n",
       "      <td>2.393250</td>\n",
       "      <td>2.746196</td>\n",
       "      <td>-0.653311</td>\n",
       "      <td>-0.656913</td>\n",
       "      <td>1.627531</td>\n",
       "      <td>2.462337</td>\n",
       "      <td>2.937244</td>\n",
       "      <td>0.0</td>\n",
       "      <td>0.0</td>\n",
       "      <td>2.843909</td>\n",
       "      <td>0.0</td>\n",
       "      <td>0</td>\n",
       "      <td>1</td>\n",
       "      <td>0</td>\n",
       "    </tr>\n",
       "    <tr>\n",
       "      <th>1</th>\n",
       "      <td>-0.802463</td>\n",
       "      <td>0.101835</td>\n",
       "      <td>0.0</td>\n",
       "      <td>0.0</td>\n",
       "      <td>1.0</td>\n",
       "      <td>0.0</td>\n",
       "      <td>0.109885</td>\n",
       "      <td>0.498271</td>\n",
       "      <td>-0.785284</td>\n",
       "      <td>-0.743407</td>\n",
       "      <td>-0.022502</td>\n",
       "      <td>-0.177193</td>\n",
       "      <td>0.082537</td>\n",
       "      <td>0.0</td>\n",
       "      <td>0.0</td>\n",
       "      <td>0.038422</td>\n",
       "      <td>0.0</td>\n",
       "      <td>0</td>\n",
       "      <td>1</td>\n",
       "      <td>0</td>\n",
       "    </tr>\n",
       "    <tr>\n",
       "      <th>2</th>\n",
       "      <td>-0.896553</td>\n",
       "      <td>-0.238888</td>\n",
       "      <td>1.0</td>\n",
       "      <td>0.0</td>\n",
       "      <td>1.0</td>\n",
       "      <td>1.0</td>\n",
       "      <td>-0.085212</td>\n",
       "      <td>-0.148097</td>\n",
       "      <td>-0.847312</td>\n",
       "      <td>-0.781606</td>\n",
       "      <td>-0.361348</td>\n",
       "      <td>-0.286221</td>\n",
       "      <td>-0.303615</td>\n",
       "      <td>0.0</td>\n",
       "      <td>0.0</td>\n",
       "      <td>-0.191304</td>\n",
       "      <td>0.0</td>\n",
       "      <td>0</td>\n",
       "      <td>1</td>\n",
       "      <td>0</td>\n",
       "    </tr>\n",
       "    <tr>\n",
       "      <th>3</th>\n",
       "      <td>-0.896553</td>\n",
       "      <td>-0.238888</td>\n",
       "      <td>0.0</td>\n",
       "      <td>0.0</td>\n",
       "      <td>0.0</td>\n",
       "      <td>1.0</td>\n",
       "      <td>0.405581</td>\n",
       "      <td>0.325594</td>\n",
       "      <td>-0.847312</td>\n",
       "      <td>-0.781606</td>\n",
       "      <td>-0.361348</td>\n",
       "      <td>0.023020</td>\n",
       "      <td>-0.039630</td>\n",
       "      <td>0.0</td>\n",
       "      <td>0.0</td>\n",
       "      <td>0.173108</td>\n",
       "      <td>0.0</td>\n",
       "      <td>0</td>\n",
       "      <td>1</td>\n",
       "      <td>1</td>\n",
       "    </tr>\n",
       "    <tr>\n",
       "      <th>4</th>\n",
       "      <td>0.138440</td>\n",
       "      <td>-1.601779</td>\n",
       "      <td>1.0</td>\n",
       "      <td>0.0</td>\n",
       "      <td>1.0</td>\n",
       "      <td>1.0</td>\n",
       "      <td>-0.722531</td>\n",
       "      <td>-0.212734</td>\n",
       "      <td>-0.019840</td>\n",
       "      <td>-0.156019</td>\n",
       "      <td>-1.422084</td>\n",
       "      <td>-0.514563</td>\n",
       "      <td>-0.331552</td>\n",
       "      <td>0.0</td>\n",
       "      <td>0.0</td>\n",
       "      <td>-0.779227</td>\n",
       "      <td>0.0</td>\n",
       "      <td>0</td>\n",
       "      <td>1</td>\n",
       "      <td>0</td>\n",
       "    </tr>\n",
       "    <tr>\n",
       "      <th>...</th>\n",
       "      <td>...</td>\n",
       "      <td>...</td>\n",
       "      <td>...</td>\n",
       "      <td>...</td>\n",
       "      <td>...</td>\n",
       "      <td>...</td>\n",
       "      <td>...</td>\n",
       "      <td>...</td>\n",
       "      <td>...</td>\n",
       "      <td>...</td>\n",
       "      <td>...</td>\n",
       "      <td>...</td>\n",
       "      <td>...</td>\n",
       "      <td>...</td>\n",
       "      <td>...</td>\n",
       "      <td>...</td>\n",
       "      <td>...</td>\n",
       "      <td>...</td>\n",
       "      <td>...</td>\n",
       "      <td>...</td>\n",
       "    </tr>\n",
       "    <tr>\n",
       "      <th>3207</th>\n",
       "      <td>1.737976</td>\n",
       "      <td>1.805449</td>\n",
       "      <td>0.0</td>\n",
       "      <td>0.0</td>\n",
       "      <td>1.0</td>\n",
       "      <td>0.0</td>\n",
       "      <td>4.235839</td>\n",
       "      <td>-1.110467</td>\n",
       "      <td>1.887171</td>\n",
       "      <td>1.995900</td>\n",
       "      <td>2.113702</td>\n",
       "      <td>6.424008</td>\n",
       "      <td>-0.518815</td>\n",
       "      <td>0.0</td>\n",
       "      <td>1.0</td>\n",
       "      <td>5.197260</td>\n",
       "      <td>0.0</td>\n",
       "      <td>0</td>\n",
       "      <td>0</td>\n",
       "      <td>0</td>\n",
       "    </tr>\n",
       "    <tr>\n",
       "      <th>3208</th>\n",
       "      <td>-0.520192</td>\n",
       "      <td>0.101835</td>\n",
       "      <td>0.0</td>\n",
       "      <td>0.0</td>\n",
       "      <td>0.0</td>\n",
       "      <td>0.0</td>\n",
       "      <td>0.239950</td>\n",
       "      <td>0.289997</td>\n",
       "      <td>-0.583365</td>\n",
       "      <td>-0.608340</td>\n",
       "      <td>-0.022502</td>\n",
       "      <td>-0.094318</td>\n",
       "      <td>-0.063091</td>\n",
       "      <td>0.0</td>\n",
       "      <td>0.0</td>\n",
       "      <td>0.143774</td>\n",
       "      <td>0.0</td>\n",
       "      <td>0</td>\n",
       "      <td>1</td>\n",
       "      <td>0</td>\n",
       "    </tr>\n",
       "    <tr>\n",
       "      <th>3209</th>\n",
       "      <td>-0.802463</td>\n",
       "      <td>0.442558</td>\n",
       "      <td>1.0</td>\n",
       "      <td>0.0</td>\n",
       "      <td>0.0</td>\n",
       "      <td>0.0</td>\n",
       "      <td>0.124337</td>\n",
       "      <td>0.692182</td>\n",
       "      <td>-0.785284</td>\n",
       "      <td>-0.743407</td>\n",
       "      <td>0.345809</td>\n",
       "      <td>-0.168387</td>\n",
       "      <td>0.236242</td>\n",
       "      <td>0.0</td>\n",
       "      <td>0.0</td>\n",
       "      <td>0.135970</td>\n",
       "      <td>0.0</td>\n",
       "      <td>0</td>\n",
       "      <td>1</td>\n",
       "      <td>0</td>\n",
       "    </tr>\n",
       "    <tr>\n",
       "      <th>3210</th>\n",
       "      <td>0.702982</td>\n",
       "      <td>0.101835</td>\n",
       "      <td>0.0</td>\n",
       "      <td>0.0</td>\n",
       "      <td>1.0</td>\n",
       "      <td>0.0</td>\n",
       "      <td>0.341112</td>\n",
       "      <td>0.670636</td>\n",
       "      <td>0.566120</td>\n",
       "      <td>0.413295</td>\n",
       "      <td>-0.022502</td>\n",
       "      <td>-0.024223</td>\n",
       "      <td>0.218301</td>\n",
       "      <td>0.0</td>\n",
       "      <td>0.0</td>\n",
       "      <td>0.225715</td>\n",
       "      <td>0.0</td>\n",
       "      <td>0</td>\n",
       "      <td>1</td>\n",
       "      <td>0</td>\n",
       "    </tr>\n",
       "    <tr>\n",
       "      <th>3211</th>\n",
       "      <td>1.455705</td>\n",
       "      <td>0.101835</td>\n",
       "      <td>0.0</td>\n",
       "      <td>0.0</td>\n",
       "      <td>1.0</td>\n",
       "      <td>0.0</td>\n",
       "      <td>-1.147411</td>\n",
       "      <td>-1.110467</td>\n",
       "      <td>1.495211</td>\n",
       "      <td>1.487376</td>\n",
       "      <td>-0.022502</td>\n",
       "      <td>-0.558057</td>\n",
       "      <td>-0.518815</td>\n",
       "      <td>1.0</td>\n",
       "      <td>1.0</td>\n",
       "      <td>-0.979981</td>\n",
       "      <td>0.0</td>\n",
       "      <td>0</td>\n",
       "      <td>1</td>\n",
       "      <td>0</td>\n",
       "    </tr>\n",
       "  </tbody>\n",
       "</table>\n",
       "<p>3212 rows × 20 columns</p>\n",
       "</div>"
      ],
      "text/plain": [
       "             0         1    2    3    4    5         6         7         8  \\\n",
       "0    -0.614282  1.464727  0.0  0.0  1.0  0.0  2.393250  2.746196 -0.653311   \n",
       "1    -0.802463  0.101835  0.0  0.0  1.0  0.0  0.109885  0.498271 -0.785284   \n",
       "2    -0.896553 -0.238888  1.0  0.0  1.0  1.0 -0.085212 -0.148097 -0.847312   \n",
       "3    -0.896553 -0.238888  0.0  0.0  0.0  1.0  0.405581  0.325594 -0.847312   \n",
       "4     0.138440 -1.601779  1.0  0.0  1.0  1.0 -0.722531 -0.212734 -0.019840   \n",
       "...        ...       ...  ...  ...  ...  ...       ...       ...       ...   \n",
       "3207  1.737976  1.805449  0.0  0.0  1.0  0.0  4.235839 -1.110467  1.887171   \n",
       "3208 -0.520192  0.101835  0.0  0.0  0.0  0.0  0.239950  0.289997 -0.583365   \n",
       "3209 -0.802463  0.442558  1.0  0.0  0.0  0.0  0.124337  0.692182 -0.785284   \n",
       "3210  0.702982  0.101835  0.0  0.0  1.0  0.0  0.341112  0.670636  0.566120   \n",
       "3211  1.455705  0.101835  0.0  0.0  1.0  0.0 -1.147411 -1.110467  1.495211   \n",
       "\n",
       "             9        10        11        12   13   14        15   16  t  y  e  \n",
       "0    -0.656913  1.627531  2.462337  2.937244  0.0  0.0  2.843909  0.0  0  1  0  \n",
       "1    -0.743407 -0.022502 -0.177193  0.082537  0.0  0.0  0.038422  0.0  0  1  0  \n",
       "2    -0.781606 -0.361348 -0.286221 -0.303615  0.0  0.0 -0.191304  0.0  0  1  0  \n",
       "3    -0.781606 -0.361348  0.023020 -0.039630  0.0  0.0  0.173108  0.0  0  1  1  \n",
       "4    -0.156019 -1.422084 -0.514563 -0.331552  0.0  0.0 -0.779227  0.0  0  1  0  \n",
       "...        ...       ...       ...       ...  ...  ...       ...  ... .. .. ..  \n",
       "3207  1.995900  2.113702  6.424008 -0.518815  0.0  1.0  5.197260  0.0  0  0  0  \n",
       "3208 -0.608340 -0.022502 -0.094318 -0.063091  0.0  0.0  0.143774  0.0  0  1  0  \n",
       "3209 -0.743407  0.345809 -0.168387  0.236242  0.0  0.0  0.135970  0.0  0  1  0  \n",
       "3210  0.413295 -0.022502 -0.024223  0.218301  0.0  0.0  0.225715  0.0  0  1  0  \n",
       "3211  1.487376 -0.022502 -0.558057 -0.518815  1.0  1.0 -0.979981  0.0  0  1  0  \n",
       "\n",
       "[3212 rows x 20 columns]"
      ]
     },
     "execution_count": 12,
     "metadata": {},
     "output_type": "execute_result"
    }
   ],
   "source": [
    "df_jobs['t'] = jobs['t']\n",
    "df_jobs['y'] = jobs['y']\n",
    "df_jobs['e'] = jobs['e']\n",
    "df_jobs"
   ]
  },
  {
   "cell_type": "code",
   "execution_count": 14,
   "metadata": {
    "colab": {
     "base_uri": "https://localhost:8080/"
    },
    "id": "cVD4iwvJF59v",
    "outputId": "c502afbf-92ca-4a31-9d98-ccadc96fc7c4"
   },
   "outputs": [
    {
     "data": {
      "text/plain": [
       "(array([0, 1], dtype=uint8), array([ 482, 2730]))"
      ]
     },
     "execution_count": 14,
     "metadata": {},
     "output_type": "execute_result"
    }
   ],
   "source": [
    "np.unique(jobs['y'], return_counts=True)"
   ]
  },
  {
   "cell_type": "code",
   "execution_count": 15,
   "metadata": {
    "colab": {
     "base_uri": "https://localhost:8080/"
    },
    "id": "_2mJS3-6_xMk",
    "outputId": "b2a62d7c-7697-4175-be17-65a1858b30ee"
   },
   "outputs": [
    {
     "data": {
      "text/plain": [
       "array([[ 1.        , -0.06750433],\n",
       "       [-0.06750433,  1.        ]])"
      ]
     },
     "execution_count": 15,
     "metadata": {},
     "output_type": "execute_result"
    }
   ],
   "source": [
    "np.corrcoef(df_jobs['t'], df_jobs['y'])"
   ]
  },
  {
   "cell_type": "code",
   "execution_count": 16,
   "metadata": {
    "colab": {
     "base_uri": "https://localhost:8080/"
    },
    "id": "ZPxbAwe8AdHS",
    "outputId": "af4fee25-0b29-415c-a6b8-705490729eb3"
   },
   "outputs": [
    {
     "data": {
      "text/plain": [
       "0.7744107744107744"
      ]
     },
     "execution_count": 16,
     "metadata": {},
     "output_type": "execute_result"
    }
   ],
   "source": [
    "sub1 = df_jobs[df_jobs['t'] == 1]['y']\n",
    "sum(sub1)/len(sub1)"
   ]
  },
  {
   "cell_type": "code",
   "execution_count": 17,
   "metadata": {
    "colab": {
     "base_uri": "https://localhost:8080/"
    },
    "id": "sLtVwkSzBRdo",
    "outputId": "1d9d9bdb-54a4-4d68-ad83-0f7fc3466aa2"
   },
   "outputs": [
    {
     "data": {
      "text/plain": [
       "0.8576329331046312"
      ]
     },
     "execution_count": 17,
     "metadata": {},
     "output_type": "execute_result"
    }
   ],
   "source": [
    "sub0 = df_jobs[df_jobs['t'] == 0]['y']\n",
    "sum(sub0)/len(sub0)"
   ]
  },
  {
   "cell_type": "code",
   "execution_count": 18,
   "metadata": {
    "colab": {
     "base_uri": "https://localhost:8080/"
    },
    "id": "vHXv_jZoD3mA",
    "outputId": "e8223fec-65d3-443b-c24b-ddde1003a602"
   },
   "outputs": [
    {
     "data": {
      "text/plain": [
       "(array([0, 1], dtype=uint8), array([2490,  722]))"
      ]
     },
     "execution_count": 18,
     "metadata": {},
     "output_type": "execute_result"
    }
   ],
   "source": [
    "np.unique(jobs['e'], return_counts=True)"
   ]
  },
  {
   "cell_type": "markdown",
   "metadata": {},
   "source": [
    "## Task 2\n",
    "Select appropriate evaluation metrics for each dataset\n",
    "\n",
    "### Mean Absolute Error\n",
    "It is the average of the absolute difference between the estimated treatment effects and the actual treatments effects. This measure requires counter factual measurements, hence applicable to the IHDP dataset.\n",
    "\n",
    "### Average Treatment Effect\n",
    "This is average of the difference between treatment and control effects. This doesn't require counterfactual measurements, hence used for the JOBS dataset."
   ]
  },
  {
   "cell_type": "markdown",
   "metadata": {
    "id": "9Z_U9fqIBtqY"
   },
   "source": [
    "## Task 3: Simple Learners\n",
    "We use linear regression for the IHDP dataset and logistic regression for the JOBS dataset.\n",
    "\n",
    "### IHDP Dataset"
   ]
  },
  {
   "cell_type": "code",
   "execution_count": 19,
   "metadata": {
    "id": "bqAJG_1BBpVS"
   },
   "outputs": [],
   "source": [
    "from sklearn.linear_model import LinearRegression"
   ]
  },
  {
   "cell_type": "code",
   "execution_count": 27,
   "metadata": {},
   "outputs": [],
   "source": [
    "X_ihdp = df_ihdp.iloc[:, :26].values\n",
    "y_ihdp = df_ihdp.iloc[:, 26].values"
   ]
  },
  {
   "cell_type": "code",
   "execution_count": 28,
   "metadata": {
    "id": "RfVv0EFNBpX4"
   },
   "outputs": [],
   "source": [
    "# 3.b. Train a model \n",
    "reg = LinearRegression().fit(X_ihdp, y_ihdp)"
   ]
  },
  {
   "cell_type": "code",
   "execution_count": 33,
   "metadata": {
    "id": "_YUp9T08BpbV"
   },
   "outputs": [],
   "source": [
    "# 3.c. Make effect predictions and compute relevant metrics\n",
    "X_ihdp_copy = np.copy(X_ihdp)\n",
    "X_ihdp_copy[:, -1] = 1\n",
    "# make predictions for all treatments\n",
    "y_ihdp_t = reg.predict(X_ihdp_copy)\n",
    "# next set t=0\n",
    "X_ihdp_copy[:, -1] = 0\n",
    "# make predictions for controls\n",
    "y_ihdp_c = reg.predict(X_ihdp_copy)\n",
    "# get effect predictions\n",
    "y_ihdp_effect = y_ihdp_t - y_ihdp_c"
   ]
  },
  {
   "cell_type": "code",
   "execution_count": 43,
   "metadata": {},
   "outputs": [
    {
     "name": "stdout",
     "output_type": "stream",
     "text": [
      "Mean Absolute Error = 1.2655\n"
     ]
    }
   ],
   "source": [
    "# calculate the MAE\n",
    "ihdp_actual_effect = (df_ihdp['yf'].values - df_ihdp['ycf'].values) * (2*df_ihdp['t']-1)\n",
    "ihdp_MAE = np.mean(np.abs(ihdp_actual_effect - y_ihdp_effect))\n",
    "print('Mean Absolute Error = %.4f' % ihdp_MAE)"
   ]
  },
  {
   "cell_type": "code",
   "execution_count": 48,
   "metadata": {},
   "outputs": [],
   "source": [
    "# 3.d. Grid Search\n",
    "from sklearn.linear_model import Ridge\n",
    "from sklearn.model_selection import GridSearchCV"
   ]
  },
  {
   "cell_type": "code",
   "execution_count": 57,
   "metadata": {},
   "outputs": [
    {
     "data": {
      "text/plain": [
       "Ridge(alpha=5)"
      ]
     },
     "execution_count": 57,
     "metadata": {},
     "output_type": "execute_result"
    }
   ],
   "source": [
    "params = {'alpha':[0, 0.01, 0.1, 1.0, 5, 10]}\n",
    "ridge_reg = GridSearchCV(Ridge(), params)\n",
    "ridge_reg.fit(X_ihdp, y_ihdp)\n",
    "ridge_reg.best_estimator_"
   ]
  },
  {
   "cell_type": "code",
   "execution_count": 60,
   "metadata": {},
   "outputs": [],
   "source": [
    "# 3.e. Cross validation\n",
    "from sklearn.linear_model import RidgeCV"
   ]
  },
  {
   "cell_type": "code",
   "execution_count": 80,
   "metadata": {},
   "outputs": [],
   "source": [
    "# define custom scoring function\n",
    "# Mean Absolute Error of Effect\n",
    "def mae_effect(estimator, X, y):\n",
    "    x = np.copy(X)\n",
    "    x[-1] = 1\n",
    "    pred_t = estimator.predict(x)\n",
    "    x[-1] = 0\n",
    "    pred_c = estimator.predict(x)\n",
    "    pred_effect = pred_t - pred_c\n",
    "    mae = np.mean(np.abs(ihdp_actual_effect - pred_effect[0]))\n",
    "    return mae"
   ]
  },
  {
   "cell_type": "code",
   "execution_count": 86,
   "metadata": {},
   "outputs": [
    {
     "name": "stdout",
     "output_type": "stream",
     "text": [
      "Best alpha chosen:  0.001\n"
     ]
    }
   ],
   "source": [
    "# 3.e. Cross validation\n",
    "ridge = RidgeCV(alphas=[1e-3, 1e-2, 1e-1, 1, 5, 10], scoring=mae_effect).fit(X_ihdp, y_ihdp)\n",
    "print('Best alpha chosen: ', ridge.alpha_)"
   ]
  },
  {
   "cell_type": "code",
   "execution_count": 87,
   "metadata": {},
   "outputs": [
    {
     "name": "stdout",
     "output_type": "stream",
     "text": [
      "Mean Absolute Error = 1.2660\n"
     ]
    }
   ],
   "source": [
    "X_ihdp_copy[:, -1] = 1\n",
    "# make predictions for all treatments\n",
    "y_ihdp_t = ridge.predict(X_ihdp_copy)\n",
    "# next set t=0\n",
    "X_ihdp_copy[:, -1] = 0\n",
    "# make predictions for controls\n",
    "y_ihdp_c = ridge.predict(X_ihdp_copy)\n",
    "# get effect predictions\n",
    "y_ihdp_effect = y_ihdp_t - y_ihdp_c\n",
    "ihdp_MAE = np.mean(np.abs(ihdp_actual_effect - y_ihdp_effect))\n",
    "print('Mean Absolute Error = %.4f' % ihdp_MAE)"
   ]
  },
  {
   "cell_type": "code",
   "execution_count": 89,
   "metadata": {},
   "outputs": [],
   "source": [
    "# 3.f: plot feature importance\n",
    "import matplotlib.pyplot as plt"
   ]
  },
  {
   "cell_type": "code",
   "execution_count": 92,
   "metadata": {},
   "outputs": [
    {
     "data": {
      "image/png": "[encoded data removed]",
      "text/plain": [
       "<Figure size 432x288 with 1 Axes>"
      ]
     },
     "metadata": {
      "needs_background": "light"
     },
     "output_type": "display_data"
    }
   ],
   "source": [
    "plt.bar(range(len(ridge.coef_)), ridge.coef_)\n",
    "plt.title('Coefficients of IHDP Dataset')\n",
    "plt.show()"
   ]
  },
  {
   "cell_type": "markdown",
   "metadata": {},
   "source": [
    "### JOBS Dataset"
   ]
  },
  {
   "cell_type": "code",
   "execution_count": 98,
   "metadata": {},
   "outputs": [],
   "source": [
    "from sklearn.linear_model import LogisticRegression"
   ]
  },
  {
   "cell_type": "code",
   "execution_count": 99,
   "metadata": {},
   "outputs": [],
   "source": [
    "X_jobs = df_jobs.iloc[:, :18].values\n",
    "y_jobs = df_jobs.iloc[:, 18].values"
   ]
  },
  {
   "cell_type": "code",
   "execution_count": 100,
   "metadata": {},
   "outputs": [
    {
     "data": {
      "text/plain": [
       "LogisticRegression(random_state=0)"
      ]
     },
     "execution_count": 100,
     "metadata": {},
     "output_type": "execute_result"
    }
   ],
   "source": [
    "clf = LogisticRegression(random_state=0)\n",
    "clf.fit(X_jobs, y_jobs)"
   ]
  },
  {
   "cell_type": "code",
   "execution_count": 105,
   "metadata": {},
   "outputs": [
    {
     "name": "stdout",
     "output_type": "stream",
     "text": [
      "Average Treatment Effect = 0.0364\n"
     ]
    }
   ],
   "source": [
    "# 3.c. obtain effects estimates\n",
    "X_jobs_copy = np.copy(X_jobs)\n",
    "X_jobs_copy[:, -1] = 1\n",
    "# make predictions for all treatments\n",
    "y_jobs_t = clf.predict(X_jobs_copy)\n",
    "# next set t=0\n",
    "X_jobs_copy[:, -1] = 0\n",
    "# make predictions for controls\n",
    "y_jobs_c = clf.predict(X_jobs_copy)\n",
    "# get effect predictions\n",
    "y_jobs_effect = y_jobs_t - y_jobs_c\n",
    "jobs_ATE = np.mean(np.abs(y_jobs_effect))\n",
    "print('Average Treatment Effect = %.4f' % jobs_ATE)"
   ]
  },
  {
   "cell_type": "code",
   "execution_count": 114,
   "metadata": {},
   "outputs": [
    {
     "data": {
      "text/plain": [
       "LogisticRegression(C=0.1, random_state=0)"
      ]
     },
     "execution_count": 114,
     "metadata": {},
     "output_type": "execute_result"
    }
   ],
   "source": [
    "# 3.d & 3.e\n",
    "params = {'C':[0.01, 0.1, 1.0, 5, 10]}\n",
    "clf = GridSearchCV(LogisticRegression(random_state=0), params)\n",
    "clf.fit(X_jobs, y_jobs)\n",
    "clf.best_estimator_"
   ]
  },
  {
   "cell_type": "code",
   "execution_count": 115,
   "metadata": {},
   "outputs": [
    {
     "name": "stdout",
     "output_type": "stream",
     "text": [
      "Average Treatment Effect = 0.0299\n"
     ]
    }
   ],
   "source": [
    "X_jobs_copy = np.copy(X_jobs)\n",
    "X_jobs_copy[:, -1] = 1\n",
    "# make predictions for all treatments\n",
    "y_jobs_t = clf.best_estimator_.predict(X_jobs_copy)\n",
    "# next set t=0\n",
    "X_jobs_copy[:, -1] = 0\n",
    "# make predictions for controls\n",
    "y_jobs_c = clf.best_estimator_.predict(X_jobs_copy)\n",
    "# get effect predictions\n",
    "y_jobs_effect = y_jobs_t - y_jobs_c\n",
    "jobs_ATE = np.mean(np.abs(y_jobs_effect))\n",
    "print('Average Treatment Effect = %.4f' % jobs_ATE)"
   ]
  },
  {
   "cell_type": "code",
   "execution_count": 119,
   "metadata": {},
   "outputs": [
    {
     "data": {
      "image/png": "[encoded data removed]",
      "text/plain": [
       "<Figure size 432x288 with 1 Axes>"
      ]
     },
     "metadata": {
      "needs_background": "light"
     },
     "output_type": "display_data"
    }
   ],
   "source": [
    "# 3.f\n",
    "coef = clf.best_estimator_.coef_[0]\n",
    "plt.bar(range(len(coef)), coef)\n",
    "plt.title('Coefficients of JOBS Dataset')\n",
    "plt.show()"
   ]
  },
  {
   "cell_type": "markdown",
   "metadata": {},
   "source": [
    "## Task 4: Propensity score re-weighting\n",
    "\n",
    "\n",
    "### IHDP Dataset"
   ]
  },
  {
   "cell_type": "code",
   "execution_count": 135,
   "metadata": {},
   "outputs": [],
   "source": [
    "# 4.a. Train a classifier to predict propensity scores\n",
    "X_prop_ihdp = X_ihdp[:,:-1]\n",
    "y_prop_ihdp = X_ihdp[:,-1]\n",
    "# logistic regression classifier\n",
    "prop_clf = LogisticRegression(random_state=0)\n",
    "prop_clf.fit(X_prop_ihdp, y_prop_ihdp)\n",
    "# propensity scores\n",
    "prop_scores = prop_clf.predict_proba(X_prop_ihdp)[:, 1]"
   ]
  },
  {
   "cell_type": "code",
   "execution_count": 137,
   "metadata": {},
   "outputs": [],
   "source": [
    "# 4.b. create samples weights\n",
    "def get_sample_weights(targets, prop_scores):\n",
    "    weights = []\n",
    "    for t, e in zip(targets, prop_scores):\n",
    "        w = t/e + (1-t)/(1-e)\n",
    "        weights.append(w)\n",
    "    return weights\n",
    "# get weights\n",
    "weights = get_sample_weights(y_prop_ihdp, prop_scores)"
   ]
  },
  {
   "cell_type": "code",
   "execution_count": 140,
   "metadata": {},
   "outputs": [
    {
     "name": "stdout",
     "output_type": "stream",
     "text": [
      "Mean Absolute Error = 1.2613\n"
     ]
    }
   ],
   "source": [
    "# 4.c. Train a weighted regressor\n",
    "w_reg = LinearRegression().fit(X_ihdp, y_ihdp, weights)\n",
    "# Make effect predictions and compute relevant metrics\n",
    "X_ihdp_copy = np.copy(X_ihdp)\n",
    "X_ihdp_copy[:, -1] = 1\n",
    "# make predictions for all treatments\n",
    "y_ihdp_t = w_reg.predict(X_ihdp_copy)\n",
    "# next set t=0\n",
    "X_ihdp_copy[:, -1] = 0\n",
    "# make predictions for controls\n",
    "y_ihdp_c = w_reg.predict(X_ihdp_copy)\n",
    "# get effect predictions\n",
    "y_ihdp_effect = y_ihdp_t - y_ihdp_c\n",
    "# calculate the MAE\n",
    "ihdp_actual_effect = (df_ihdp['yf'].values - df_ihdp['ycf'].values) * (2*df_ihdp['t']-1)\n",
    "ihdp_MAE = np.mean(np.abs(ihdp_actual_effect - y_ihdp_effect))\n",
    "print('Mean Absolute Error = %.4f' % ihdp_MAE)"
   ]
  },
  {
   "cell_type": "code",
   "execution_count": 141,
   "metadata": {},
   "outputs": [
    {
     "data": {
      "image/png": "[encoded data removed]",
      "text/plain": [
       "<Figure size 432x288 with 1 Axes>"
      ]
     },
     "metadata": {
      "needs_background": "light"
     },
     "output_type": "display_data"
    }
   ],
   "source": [
    "plt.bar(range(len(w_reg.coef_)), w_reg.coef_)\n",
    "plt.title('Coefficients of IHDP Dataset')\n",
    "plt.show()"
   ]
  },
  {
   "cell_type": "markdown",
   "metadata": {},
   "source": [
    "### JOBS Dataset"
   ]
  },
  {
   "cell_type": "code",
   "execution_count": 144,
   "metadata": {},
   "outputs": [],
   "source": [
    "# 4.a. Train a classifier to predict propensity scores\n",
    "X_prop_jobs = X_jobs[:,:-1]\n",
    "y_prop_jobs = X_jobs[:,-1]\n",
    "# logistic regression classifier\n",
    "prop_clf = LogisticRegression(random_state=0)\n",
    "prop_clf.fit(X_prop_jobs, y_prop_jobs)\n",
    "# propensity scores\n",
    "prop_scores = prop_clf.predict_proba(X_prop_jobs)[:, 1]"
   ]
  },
  {
   "cell_type": "code",
   "execution_count": 145,
   "metadata": {},
   "outputs": [],
   "source": [
    "# get weights\n",
    "weights = get_sample_weights(y_prop_jobs, prop_scores)"
   ]
  },
  {
   "cell_type": "code",
   "execution_count": 147,
   "metadata": {},
   "outputs": [
    {
     "data": {
      "text/plain": [
       "LogisticRegression(random_state=0)"
      ]
     },
     "execution_count": 147,
     "metadata": {},
     "output_type": "execute_result"
    }
   ],
   "source": [
    "w_clf = LogisticRegression(random_state=0)\n",
    "w_clf.fit(X_jobs, y_jobs, weights)"
   ]
  },
  {
   "cell_type": "code",
   "execution_count": 166,
   "metadata": {},
   "outputs": [
    {
     "name": "stdout",
     "output_type": "stream",
     "text": [
      "Average Treatment Effect = 0.0377\n"
     ]
    }
   ],
   "source": [
    "# obtain effects estimates\n",
    "X_jobs_copy = np.copy(X_jobs)\n",
    "X_jobs_copy[:, -1] = 1\n",
    "# make predictions for all treatments\n",
    "y_jobs_t = w_clf.predict(X_jobs_copy)\n",
    "# next set t=0\n",
    "X_jobs_copy[:, -1] = 0\n",
    "# make predictions for controls\n",
    "y_jobs_c = w_clf.predict(X_jobs_copy)\n",
    "# get effect predictions\n",
    "y_jobs_effect = y_jobs_t - y_jobs_c\n",
    "jobs_ATE = np.mean(y_jobs_effect)\n",
    "print('Average Treatment Effect = %.4f' % jobs_ATE)"
   ]
  },
  {
   "cell_type": "markdown",
   "metadata": {},
   "source": [
    "## Task 5: Advanced CATE estimators\n",
    "\n",
    "### IHDP Dataset"
   ]
  },
  {
   "cell_type": "code",
   "execution_count": 155,
   "metadata": {},
   "outputs": [],
   "source": [
    "X_ihdp_CATE = X_ihdp[:, :-1]\n",
    "T_ihdp_CATE = X_ihdp[:, -1]"
   ]
  },
  {
   "cell_type": "code",
   "execution_count": 157,
   "metadata": {},
   "outputs": [],
   "source": [
    "# !pip install econml==0.10.0\n",
    "import econml\n",
    "from econml.dml import CausalForestDML\n",
    "from sklearn.linear_model import LassoCV\n",
    "# Use defaults\n",
    "est = CausalForestDML()\n",
    "# Or specify hyperparameters\n",
    "est = CausalForestDML(criterion='het', n_estimators=500,       \n",
    "                      min_samples_leaf=10, \n",
    "                      max_depth=10, max_samples=0.4,\n",
    "                      discrete_treatment=False,\n",
    "                      model_t=LassoCV(), model_y=LassoCV())\n",
    "est.fit(y_ihdp, T_ihdp_CATE, X=X_ihdp_CATE)\n",
    "treatment_effects = est.effect(X_ihdp_CATE)\n",
    "# Confidence intervals via Bootstrap-of-Little-Bags for forests\n",
    "lb, ub = est.effect_interval(X_ihdp_CATE, alpha=0.05)"
   ]
  },
  {
   "cell_type": "code",
   "execution_count": 161,
   "metadata": {},
   "outputs": [
    {
     "name": "stdout",
     "output_type": "stream",
     "text": [
      "Mean Absolute Error = 1.1707\n"
     ]
    }
   ],
   "source": [
    "# calculate the MAE\n",
    "ihdp_actual_effect = (df_ihdp['yf'].values - df_ihdp['ycf'].values) * (2*df_ihdp['t']-1)\n",
    "ihdp_MAE_CATE = np.mean(np.abs(ihdp_actual_effect - treatment_effects))\n",
    "print('Mean Absolute Error = %.4f' % ihdp_MAE_CATE)"
   ]
  },
  {
   "cell_type": "markdown",
   "metadata": {},
   "source": [
    "### JOBS Dataset"
   ]
  },
  {
   "cell_type": "code",
   "execution_count": 162,
   "metadata": {},
   "outputs": [],
   "source": [
    "X_jobs_CATE = X_jobs[:, :-1]\n",
    "T_jobs_CATE = X_jobs[:, -1]"
   ]
  },
  {
   "cell_type": "code",
   "execution_count": 163,
   "metadata": {},
   "outputs": [],
   "source": [
    "# Use defaults\n",
    "est = CausalForestDML()\n",
    "# Or specify hyperparameters\n",
    "est = CausalForestDML(criterion='het', n_estimators=500,       \n",
    "                      min_samples_leaf=10, \n",
    "                      max_depth=10, max_samples=0.4,\n",
    "                      discrete_treatment=False,\n",
    "                      model_t=LassoCV(), model_y=LassoCV())\n",
    "est.fit(y_jobs, T_jobs_CATE, X=X_jobs_CATE)\n",
    "treatment_effects = est.effect(X_jobs_CATE)\n",
    "# Confidence intervals via Bootstrap-of-Little-Bags for forests\n",
    "lb, ub = est.effect_interval(X_jobs_CATE, alpha=0.05)"
   ]
  },
  {
   "cell_type": "code",
   "execution_count": 165,
   "metadata": {},
   "outputs": [
    {
     "name": "stdout",
     "output_type": "stream",
     "text": [
      "Average Treatment Effect = -0.0409\n"
     ]
    }
   ],
   "source": [
    "jobs_ATE_CATE = np.mean(treatment_effects)\n",
    "print('Average Treatment Effect = %.4f' % jobs_ATE_CATE)"
   ]
  }
 ],
 "metadata": {
  "colab": {
   "collapsed_sections": [],
   "name": "Causal_Inference.ipynb",
   "provenance": []
  },
  "kernelspec": {
   "display_name": "Python 3 (ipykernel)",
   "language": "python",
   "name": "python3"
  },
  "language_info": {
   "codemirror_mode": {
    "name": "ipython",
    "version": 3
   },
   "file_extension": ".py",
   "mimetype": "text/x-python",
   "name": "python",
   "nbconvert_exporter": "python",
   "pygments_lexer": "ipython3",
   "version": "3.9.7"
  }
 },
 "nbformat": 4,
 "nbformat_minor": 1
}
